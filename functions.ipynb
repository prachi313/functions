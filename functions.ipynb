{
  "nbformat": 4,
  "nbformat_minor": 0,
  "metadata": {
    "colab": {
      "provenance": []
    },
    "kernelspec": {
      "name": "python3",
      "display_name": "Python 3"
    },
    "language_info": {
      "name": "python"
    }
  },
  "cells": [
    {
      "cell_type": "markdown",
      "source": [
        "functions"
      ],
      "metadata": {
        "id": "VxPqSlIriRFE"
      }
    },
    {
      "cell_type": "markdown",
      "source": [
        "1.What is the difference between a function and a method in Python?\n",
        "=>\n",
        "* Function: A function is defined independently and can be called on its own.\n",
        "\n",
        "* Method: A method is a function that is associated with an object (like a string, list, or class instance) and is called on that object."
      ],
      "metadata": {
        "id": "8EUYJl9MiTkq"
      }
    },
    {
      "cell_type": "code",
      "source": [
        "# Function\n",
        "def greet(name):\n",
        "    return \"Hello \" + name\n",
        "\n",
        "print(greet(\"Prachi\"))  # Output: Hello Prachi\n",
        "\n",
        "# Method\n",
        "name = \"prachi\"\n",
        "print(name.upper())      # Output: PRACHI\n"
      ],
      "metadata": {
        "colab": {
          "base_uri": "https://localhost:8080/"
        },
        "id": "eB04Fn4JiyFB",
        "outputId": "e5270737-51f1-472d-cb12-012561c4b6c9"
      },
      "execution_count": 5,
      "outputs": [
        {
          "output_type": "stream",
          "name": "stdout",
          "text": [
            "Hello Prachi\n",
            "PRACHI\n"
          ]
        }
      ]
    },
    {
      "cell_type": "markdown",
      "source": [
        "2.Explain the concept of function arguments and parameters in Python.\n",
        "=>\n",
        "* Parameter: A parameter is a variable defined in the function definition. It acts as a placeholder for the value the function will receive.\n",
        "* Argument: An argument is the actual value you pass to the function when you call it."
      ],
      "metadata": {
        "id": "NstradMLi2z1"
      }
    },
    {
      "cell_type": "code",
      "source": [
        "# Function with parameters\n",
        "def greet(name, age):\n",
        "    print(f\"Hello {name}, you are {age} years old.\")\n",
        "\n",
        "# Calling the function with arguments\n",
        "greet(\"Prachi\", 25)\n"
      ],
      "metadata": {
        "colab": {
          "base_uri": "https://localhost:8080/"
        },
        "id": "UDTHE_yfjEE0",
        "outputId": "0fd69399-9f09-4dd8-815e-3916e343588f"
      },
      "execution_count": 6,
      "outputs": [
        {
          "output_type": "stream",
          "name": "stdout",
          "text": [
            "Hello Prachi, you are 25 years old.\n"
          ]
        }
      ]
    },
    {
      "cell_type": "markdown",
      "source": [
        "3.What are the different ways to define and call a function in Python\n",
        "=>\n",
        "* regular functions\n",
        "* default argumnet\n",
        "* keyword argument"
      ],
      "metadata": {
        "id": "JDXiftOfjIor"
      }
    },
    {
      "cell_type": "code",
      "source": [
        "def greet(name):\n",
        "    print(\"Hello\", name)\n",
        "\n",
        "greet(\"Prachi\")  # Output: Hello Prachi\n"
      ],
      "metadata": {
        "colab": {
          "base_uri": "https://localhost:8080/"
        },
        "id": "SDCPIctJjuzk",
        "outputId": "c43b04a6-36f0-40bc-9a40-a0ab80b396fb"
      },
      "execution_count": 7,
      "outputs": [
        {
          "output_type": "stream",
          "name": "stdout",
          "text": [
            "Hello Prachi\n"
          ]
        }
      ]
    },
    {
      "cell_type": "markdown",
      "source": [
        "4.What is the purpose of the `return` statement in a Python function?\n",
        "=>\n",
        "* Send a result back from a function to the part of the program that called it.\n",
        "* End the function immediately when the return is executed."
      ],
      "metadata": {
        "id": "fxsAWpoWjzB8"
      }
    },
    {
      "cell_type": "code",
      "source": [
        "def add(a, b):\n",
        "    return a + b  # Sends the result back\n",
        "\n",
        "result = add(5, 3)\n",
        "print(result)   # Output: 8\n"
      ],
      "metadata": {
        "colab": {
          "base_uri": "https://localhost:8080/"
        },
        "id": "1-ndthRpkG9A",
        "outputId": "2a834370-2c90-4d52-d4ac-cd5d729e6d3f"
      },
      "execution_count": 8,
      "outputs": [
        {
          "output_type": "stream",
          "name": "stdout",
          "text": [
            "8\n"
          ]
        }
      ]
    },
    {
      "cell_type": "markdown",
      "source": [
        "5.What are iterators in Python and how do they differ from iterables?\n",
        "=>\n",
        "1. Iterable\n",
        "* An iterable is any Python object you can loop over (e.g., list, tuple, string).\n",
        "* You can use it in a for loop.\n",
        "* But an iterable does not keep track of its current position during iteration.\n",
        "2. Iterator\n",
        "* An iterator is an object that keeps track of where you are during iteration.\n",
        "* You get an iterator from an iterable using the iter() function.\n",
        "* You can get the next value using next()."
      ],
      "metadata": {
        "id": "-FMwip1-kK2G"
      }
    },
    {
      "cell_type": "code",
      "source": [
        "# Iterable\n",
        "my_list = [1, 2, 3]\n",
        "\n",
        "for item in my_list:  # Loop works because list is iterable\n",
        "    print(item)\n",
        "# Output: 1 2 3\n",
        "\n",
        "# Iterator\n",
        "my_iter = iter(my_list)  # Convert iterable to iterator\n",
        "print(next(my_iter))     # Output: 1\n",
        "print(next(my_iter))     # Output: 2\n",
        "print(next(my_iter))     # Output: 3\n",
        "# next(my_iter) now would raise StopIteration\n"
      ],
      "metadata": {
        "colab": {
          "base_uri": "https://localhost:8080/"
        },
        "id": "l-00QvzFkpSr",
        "outputId": "8d194d1f-b07d-40e3-d4eb-430c75500ebe"
      },
      "execution_count": 9,
      "outputs": [
        {
          "output_type": "stream",
          "name": "stdout",
          "text": [
            "1\n",
            "2\n",
            "3\n",
            "1\n",
            "2\n",
            "3\n"
          ]
        }
      ]
    },
    {
      "cell_type": "markdown",
      "source": [
        "6.. Explain the concept of generators in Python and how they are defined.\n",
        "=>\n",
        "* Defined like a function but use the yield statement instead of return.\n",
        "* Each call to next() resumes from where the last yield left off.\n",
        "* They do not store all values in memory—they produce one value at a time."
      ],
      "metadata": {
        "id": "gNC9FBypks8o"
      }
    },
    {
      "cell_type": "code",
      "source": [
        "# Generator function\n",
        "def simple_generator():\n",
        "    yield 1\n",
        "    yield 2\n",
        "    yield 3\n",
        "\n",
        "gen = simple_generator()  # Create generator object\n",
        "\n",
        "print(next(gen))  # Output: 1\n",
        "print(next(gen))  # Output: 2\n",
        "print(next(gen))  # Output: 3\n",
        "# next(gen) now would raise StopIteration\n"
      ],
      "metadata": {
        "colab": {
          "base_uri": "https://localhost:8080/"
        },
        "id": "rNVqiRhXlAs0",
        "outputId": "7c8249ff-cee5-4f54-a379-e65482089b47"
      },
      "execution_count": 10,
      "outputs": [
        {
          "output_type": "stream",
          "name": "stdout",
          "text": [
            "1\n",
            "2\n",
            "3\n"
          ]
        }
      ]
    },
    {
      "cell_type": "markdown",
      "source": [
        "7.What are the advantages of using generators over regular functions?\n",
        "=>Memory Efficient:\n",
        "* They generate values on the fly, so they don’t store the entire sequence in memory.\n",
        "* Useful for large datasets or infinite sequences.\n",
        "\n",
        "Lazy Evaluation:\n",
        "* Values are computed only when needed, saving computation time"
      ],
      "metadata": {
        "id": "AnHCYyd6lEEe"
      }
    },
    {
      "cell_type": "code",
      "source": [
        "def get_numbers(n):\n",
        "    return [i for i in range(n)]  # Creates entire list in memory\n",
        "\n",
        "numbers = get_numbers(1000000)    # Large list stored in memory\n",
        "print(numbers[0])                 # Output: 0\n"
      ],
      "metadata": {
        "colab": {
          "base_uri": "https://localhost:8080/"
        },
        "id": "pFpG0Sqslxst",
        "outputId": "3f1e2b0e-ad29-48f6-a96a-4c77a8a567d3"
      },
      "execution_count": 11,
      "outputs": [
        {
          "output_type": "stream",
          "name": "stdout",
          "text": [
            "0\n"
          ]
        }
      ]
    },
    {
      "cell_type": "markdown",
      "source": [
        "8. What is a lambda function in Python and when is it typically used?\n",
        "=>\n",
        "* Can have any number of arguments but only one expression.\n",
        "* The result of the expression is automatically returned.\n",
        "* Typically used for short, simple functions where defining a full function is unnecessary.\n",
        "* Often used with functions like map(), filter(), and sorted().\n"
      ],
      "metadata": {
        "id": "3mci45Hwl0yl"
      }
    },
    {
      "cell_type": "code",
      "source": [
        "# Lambda function to square a number\n",
        "square = lambda x: x**2\n",
        "\n",
        "print(square(5))  # Output: 25\n"
      ],
      "metadata": {
        "colab": {
          "base_uri": "https://localhost:8080/"
        },
        "id": "2UC6b80pmHXk",
        "outputId": "f3d8a732-beef-437e-8f5c-6877d5338f6e"
      },
      "execution_count": 12,
      "outputs": [
        {
          "output_type": "stream",
          "name": "stdout",
          "text": [
            "25\n"
          ]
        }
      ]
    },
    {
      "cell_type": "markdown",
      "source": [
        "9. Explain the purpose and usage of the `map()` function in Python.\n",
        "=>\n",
        "* The map() function in Python is used to apply a function to every item in an iterable (like a list or tuple) and return a new iterable (map object) with the results."
      ],
      "metadata": {
        "id": "DTu-3kUQmKS2"
      }
    },
    {
      "cell_type": "code",
      "source": [
        "# Using map with a lambda function to square numbers\n",
        "numbers = [1, 2, 3, 4, 5]\n",
        "squared = map(lambda x: x**2, numbers)\n",
        "\n",
        "print(list(squared))  # Output: [1, 4, 9, 16, 25]\n"
      ],
      "metadata": {
        "colab": {
          "base_uri": "https://localhost:8080/"
        },
        "id": "nFTI22a1mZmc",
        "outputId": "eef95a5f-6e56-44a5-a7e7-c03ff1853162"
      },
      "execution_count": 13,
      "outputs": [
        {
          "output_type": "stream",
          "name": "stdout",
          "text": [
            "[1, 4, 9, 16, 25]\n"
          ]
        }
      ]
    },
    {
      "cell_type": "markdown",
      "source": [
        "10. What is the difference between `map()`, `reduce()`, and `filter()` functions in Python\n",
        "=>\n",
        "* map\n",
        "* filter\n",
        "* reduce"
      ],
      "metadata": {
        "id": "xn7EjxI2mcjw"
      }
    },
    {
      "cell_type": "code",
      "source": [
        "numbers = [1, 2, 3, 4]\n",
        "squared = list(map(lambda x: x**2, numbers))\n",
        "print(squared)\n"
      ],
      "metadata": {
        "colab": {
          "base_uri": "https://localhost:8080/"
        },
        "id": "QyoUxGQxm1Lu",
        "outputId": "39755988-00d5-4ebc-e547-02dc03fd5a15"
      },
      "execution_count": 14,
      "outputs": [
        {
          "output_type": "stream",
          "name": "stdout",
          "text": [
            "[1, 4, 9, 16]\n"
          ]
        }
      ]
    },
    {
      "cell_type": "markdown",
      "source": [
        "pratical questions"
      ],
      "metadata": {
        "id": "J-4xX3ysm9iV"
      }
    },
    {
      "cell_type": "code",
      "source": [
        "#. Write a Python function that takes a list of numbers as input and returns the sum of all even numbers in the list\n",
        "def sum_even_numbers(numbers):\n",
        "    total = 0\n",
        "    for num in numbers:\n",
        "        if num % 2 == 0:       # Check if the number is even\n",
        "            total += num\n",
        "    return total\n",
        "\n",
        "# Example usage\n",
        "my_list = [1, 2, 3, 4, 5, 6]\n",
        "result = sum_even_numbers(my_list)\n",
        "print(result)\n"
      ],
      "metadata": {
        "colab": {
          "base_uri": "https://localhost:8080/"
        },
        "id": "V4ck30LGnAR1",
        "outputId": "fd7defaf-22a9-4161-a9c9-5528cc4cb430"
      },
      "execution_count": 16,
      "outputs": [
        {
          "output_type": "stream",
          "name": "stdout",
          "text": [
            "12\n"
          ]
        }
      ]
    },
    {
      "cell_type": "code",
      "source": [
        "#.Create a Python function that accepts a string and returns the reverse of that string\n",
        "def reverse_string(s):\n",
        "    return s[::-1]  # Slice to reverse the string\n",
        "\n",
        "# Example usage\n",
        "text = \"Prachi\"\n",
        "reversed_text = reverse_string(text)\n",
        "print(reversed_text)\n"
      ],
      "metadata": {
        "colab": {
          "base_uri": "https://localhost:8080/"
        },
        "id": "CL0uvgx1nPBC",
        "outputId": "eb2b38da-b9bf-4f61-ea00-1b7d19b7f81b"
      },
      "execution_count": 17,
      "outputs": [
        {
          "output_type": "stream",
          "name": "stdout",
          "text": [
            "ihcarP\n"
          ]
        }
      ]
    },
    {
      "cell_type": "code",
      "source": [
        "#.Implement a Python function that takes a list of integers and returns a new list containing the squares of each number\n",
        "def square_list(numbers):\n",
        "    return [x**2 for x in numbers]  # List comprehension to square each number\n",
        "\n",
        "# Example usage\n",
        "my_list = [1, 2, 3, 4, 5]\n",
        "squared_list = square_list(my_list)\n",
        "print(squared_list)\n"
      ],
      "metadata": {
        "colab": {
          "base_uri": "https://localhost:8080/"
        },
        "id": "kDQQRLzwnWd1",
        "outputId": "17dc2a18-2c1d-4b91-ecb9-baa133301111"
      },
      "execution_count": 19,
      "outputs": [
        {
          "output_type": "stream",
          "name": "stdout",
          "text": [
            "[1, 4, 9, 16, 25]\n"
          ]
        }
      ]
    },
    {
      "cell_type": "code",
      "source": [
        "#.Write a Python function that checks if a given number is prime or not from 1 to 200.\n",
        "def is_prime(n):\n",
        "    if n < 2:\n",
        "        return False\n",
        "    for i in range(2, int(n**0.5) + 1):  # Check divisibility up to sqrt(n)\n",
        "        if n % i == 0:\n",
        "            return False\n",
        "    return True\n",
        "\n",
        "# Example usage: print all prime numbers from 1 to 200\n",
        "primes = [num for num in range(1, 201) if is_prime(num)]\n",
        "print(primes)\n"
      ],
      "metadata": {
        "colab": {
          "base_uri": "https://localhost:8080/"
        },
        "id": "VDeHt7RrnpSt",
        "outputId": "1d320a22-6ff3-4190-b5b8-4ca26cae6a1f"
      },
      "execution_count": 20,
      "outputs": [
        {
          "output_type": "stream",
          "name": "stdout",
          "text": [
            "[2, 3, 5, 7, 11, 13, 17, 19, 23, 29, 31, 37, 41, 43, 47, 53, 59, 61, 67, 71, 73, 79, 83, 89, 97, 101, 103, 107, 109, 113, 127, 131, 137, 139, 149, 151, 157, 163, 167, 173, 179, 181, 191, 193, 197, 199]\n"
          ]
        }
      ]
    },
    {
      "cell_type": "code",
      "source": [
        "#.Create an iterator class in Python that generates the Fibonacci sequence up to a specified number of terms\n",
        "class Fibonacci:\n",
        "    def __init__(self, n_terms):\n",
        "        self.n_terms = n_terms  # Total number of terms to generate\n",
        "        self.index = 0          # Current index\n",
        "        self.a, self.b = 0, 1   # First two Fibonacci numbers\n",
        "\n",
        "    def __iter__(self):\n",
        "        return self\n",
        "\n",
        "    def __next__(self):\n",
        "        if self.index >= self.n_terms:\n",
        "            raise StopIteration\n",
        "        if self.index == 0:\n",
        "            self.index += 1\n",
        "            return self.a\n",
        "        elif self.index == 1:\n",
        "            self.index += 1\n",
        "            return self.b\n",
        "        else:\n",
        "            self.a, self.b = self.b, self.a + self.b\n",
        "            self.index += 1\n",
        "            return self.b\n",
        "\n",
        "# Example usage: generate first 10 Fibonacci numbers\n",
        "fib_sequence = Fibonacci(10)\n",
        "for num in fib_sequence:\n",
        "    print(num, end=\" \")\n",
        "\n",
        "\n"
      ],
      "metadata": {
        "colab": {
          "base_uri": "https://localhost:8080/"
        },
        "id": "88GJzFBDnxAM",
        "outputId": "3093eb1c-cd48-4a5e-e9fb-0bc4616f1df7"
      },
      "execution_count": 22,
      "outputs": [
        {
          "output_type": "stream",
          "name": "stdout",
          "text": [
            "0 1 1 2 3 5 8 13 21 34 "
          ]
        }
      ]
    },
    {
      "cell_type": "code",
      "source": [
        "#. Write a generator function in Python that yields the powers of 2 up to a given exponent.\n",
        "def powers_of_two(max_exponent):\n",
        "    for i in range(max_exponent + 1):\n",
        "        yield 2 ** i  # Generate 2^i\n",
        "\n",
        "# Example usage: powers of 2 up to 5\n",
        "for value in powers_of_two(5):\n",
        "    print(value, end=\" \")\n",
        "\n",
        "\n"
      ],
      "metadata": {
        "colab": {
          "base_uri": "https://localhost:8080/"
        },
        "id": "8F2bq8kyoCcR",
        "outputId": "94a3f030-2e77-46f4-ceff-4396b47daf84"
      },
      "execution_count": 23,
      "outputs": [
        {
          "output_type": "stream",
          "name": "stdout",
          "text": [
            "1 2 4 8 16 32 "
          ]
        }
      ]
    },
    {
      "cell_type": "code",
      "source": [
        "#.Implement a generator function that reads a file line by line and yields each line as a string.\n",
        "def read_file_line_by_line(file_path):\n",
        "    with open(file_path, \"r\") as file:\n",
        "        for line in file:\n",
        "            yield line.rstrip(\"\\n\")  # Remove trailing newline character\n",
        "\n",
        "# Example usage\n",
        "# Suppose you have a file named \"sample.txt\"\n",
        "for line in read_file_line_by_line(\"sample.txt\"):\n",
        "    print(line)\n"
      ],
      "metadata": {
        "colab": {
          "base_uri": "https://localhost:8080/",
          "height": 329
        },
        "id": "MeuXjUCQoTCO",
        "outputId": "a3d996cb-9599-4328-960e-720002c76f7b"
      },
      "execution_count": 28,
      "outputs": [
        {
          "output_type": "error",
          "ename": "FileNotFoundError",
          "evalue": "[Errno 2] No such file or directory: 'sample.txt'",
          "traceback": [
            "\u001b[0;31m---------------------------------------------------------------------------\u001b[0m",
            "\u001b[0;31mFileNotFoundError\u001b[0m                         Traceback (most recent call last)",
            "\u001b[0;32m/tmp/ipython-input-620688456.py\u001b[0m in \u001b[0;36m<cell line: 0>\u001b[0;34m()\u001b[0m\n\u001b[1;32m      7\u001b[0m \u001b[0;31m# Example usage\u001b[0m\u001b[0;34m\u001b[0m\u001b[0;34m\u001b[0m\u001b[0m\n\u001b[1;32m      8\u001b[0m \u001b[0;31m# Suppose you have a file named \"sample.txt\"\u001b[0m\u001b[0;34m\u001b[0m\u001b[0;34m\u001b[0m\u001b[0m\n\u001b[0;32m----> 9\u001b[0;31m \u001b[0;32mfor\u001b[0m \u001b[0mline\u001b[0m \u001b[0;32min\u001b[0m \u001b[0mread_file_line_by_line\u001b[0m\u001b[0;34m(\u001b[0m\u001b[0;34m\"sample.txt\"\u001b[0m\u001b[0;34m)\u001b[0m\u001b[0;34m:\u001b[0m\u001b[0;34m\u001b[0m\u001b[0;34m\u001b[0m\u001b[0m\n\u001b[0m\u001b[1;32m     10\u001b[0m     \u001b[0mprint\u001b[0m\u001b[0;34m(\u001b[0m\u001b[0mline\u001b[0m\u001b[0;34m)\u001b[0m\u001b[0;34m\u001b[0m\u001b[0;34m\u001b[0m\u001b[0m\n",
            "\u001b[0;32m/tmp/ipython-input-620688456.py\u001b[0m in \u001b[0;36mread_file_line_by_line\u001b[0;34m(file_path)\u001b[0m\n\u001b[1;32m      1\u001b[0m \u001b[0;31m#.Implement a generator function that reads a file line by line and yields each line as a string.\u001b[0m\u001b[0;34m\u001b[0m\u001b[0;34m\u001b[0m\u001b[0m\n\u001b[1;32m      2\u001b[0m \u001b[0;32mdef\u001b[0m \u001b[0mread_file_line_by_line\u001b[0m\u001b[0;34m(\u001b[0m\u001b[0mfile_path\u001b[0m\u001b[0;34m)\u001b[0m\u001b[0;34m:\u001b[0m\u001b[0;34m\u001b[0m\u001b[0;34m\u001b[0m\u001b[0m\n\u001b[0;32m----> 3\u001b[0;31m     \u001b[0;32mwith\u001b[0m \u001b[0mopen\u001b[0m\u001b[0;34m(\u001b[0m\u001b[0mfile_path\u001b[0m\u001b[0;34m,\u001b[0m \u001b[0;34m\"r\"\u001b[0m\u001b[0;34m)\u001b[0m \u001b[0;32mas\u001b[0m \u001b[0mfile\u001b[0m\u001b[0;34m:\u001b[0m\u001b[0;34m\u001b[0m\u001b[0;34m\u001b[0m\u001b[0m\n\u001b[0m\u001b[1;32m      4\u001b[0m         \u001b[0;32mfor\u001b[0m \u001b[0mline\u001b[0m \u001b[0;32min\u001b[0m \u001b[0mfile\u001b[0m\u001b[0;34m:\u001b[0m\u001b[0;34m\u001b[0m\u001b[0;34m\u001b[0m\u001b[0m\n\u001b[1;32m      5\u001b[0m             \u001b[0;32myield\u001b[0m \u001b[0mline\u001b[0m\u001b[0;34m.\u001b[0m\u001b[0mrstrip\u001b[0m\u001b[0;34m(\u001b[0m\u001b[0;34m\"\\n\"\u001b[0m\u001b[0;34m)\u001b[0m  \u001b[0;31m# Remove trailing newline character\u001b[0m\u001b[0;34m\u001b[0m\u001b[0;34m\u001b[0m\u001b[0m\n",
            "\u001b[0;31mFileNotFoundError\u001b[0m: [Errno 2] No such file or directory: 'sample.txt'"
          ]
        }
      ]
    },
    {
      "cell_type": "code",
      "source": [
        "#.Use a lambda function in Python to sort a list of tuples based on the second element of each tuple\n",
        "# Sample list of tuples\n",
        "data = [(1, 5), (3, 2), (4, 8), (2, 1)]\n",
        "\n",
        "# Sort using lambda based on second element of each tuple\n",
        "sorted_data = sorted(data, key=lambda x: x[1])\n",
        "\n",
        "print(sorted_data)\n",
        "# Output: [(2, 1), (3, 2), (1, 5), (4, 8)]\n"
      ],
      "metadata": {
        "colab": {
          "base_uri": "https://localhost:8080/"
        },
        "id": "xEESzmwmphCL",
        "outputId": "1b7a5655-8790-4f5b-8ea8-b62cdf8f441d"
      },
      "execution_count": 29,
      "outputs": [
        {
          "output_type": "stream",
          "name": "stdout",
          "text": [
            "[(2, 1), (3, 2), (1, 5), (4, 8)]\n"
          ]
        }
      ]
    },
    {
      "cell_type": "code",
      "source": [
        "#.Write a Python program that uses `map()` to convert a list of temperatures from Celsius to Fahrenheit.\n",
        "# Function to convert Celsius to Fahrenheit\n",
        "def celsius_to_fahrenheit(c):\n",
        "    return (c * 9/5) + 32\n",
        "\n",
        "# List of temperatures in Celsius\n",
        "celsius_temps = [0, 20, 37, 100]\n",
        "\n",
        "# Use map() to convert each temperature to Fahrenheit\n",
        "fahrenheit_temps = list(map(celsius_to_fahrenheit, celsius_temps))\n",
        "\n",
        "print(fahrenheit_temps)\n",
        "# Output: [32.0, 68.0, 98.6, 212.0]\n"
      ],
      "metadata": {
        "colab": {
          "base_uri": "https://localhost:8080/"
        },
        "id": "c25NgOG6pvSH",
        "outputId": "a890b989-7c6a-4387-985c-7f1c7b443249"
      },
      "execution_count": 30,
      "outputs": [
        {
          "output_type": "stream",
          "name": "stdout",
          "text": [
            "[32.0, 68.0, 98.6, 212.0]\n"
          ]
        }
      ]
    },
    {
      "cell_type": "code",
      "source": [
        "#.Create a Python program that uses `filter()` to remove all the vowels from a given string.\n",
        "# Function to check if a character is not a vowel\n",
        "def is_not_vowel(char):\n",
        "    return char.lower() not in \"aeiou\"\n",
        "\n",
        "# Input string\n",
        "text = \"Prachi Sawant\"\n",
        "\n",
        "# Use filter() to remove vowels\n",
        "filtered_text = \"\".join(filter(is_not_vowel, text))\n",
        "\n",
        "print(filtered_text)\n",
        "\n"
      ],
      "metadata": {
        "colab": {
          "base_uri": "https://localhost:8080/"
        },
        "id": "IgLHPcEVp46g",
        "outputId": "87c45126-a50e-44bc-f0d9-41fca53fb449"
      },
      "execution_count": 31,
      "outputs": [
        {
          "output_type": "stream",
          "name": "stdout",
          "text": [
            "Prch Swnt\n"
          ]
        }
      ]
    },
    {
      "cell_type": "code",
      "source": [
        "#. Imagine an accounting routine used in a book shop. It works on a list with sublists, which look like this:\n",
        "Write a Python program, which returns a list with 2-tuples. Each tuple consists of the order number and the\n",
        "product of the price per item and the quantity. The product should be increased by 10,- € if the value of the\n",
        "order is smaller than 100,00 €.\n",
        "\n",
        "Write a Python program using lambda and map.\n",
        "orders = [\n",
        "    [1, 50.0, 2],   # order_number, price_per_item, quantity\n",
        "    [2, 20.0, 3],\n",
        "    [3, 200.0, 1]\n",
        "]\n"
      ],
      "metadata": {
        "colab": {
          "base_uri": "https://localhost:8080/",
          "height": 110
        },
        "id": "B8J_K3ykqDHV",
        "outputId": "4e15b628-9176-4793-ac37-e53e4ba7bb2e"
      },
      "execution_count": 32,
      "outputs": [
        {
          "output_type": "error",
          "ename": "SyntaxError",
          "evalue": "invalid character '€' (U+20AC) (ipython-input-2383383491.py, line 3)",
          "traceback": [
            "\u001b[0;36m  File \u001b[0;32m\"/tmp/ipython-input-2383383491.py\"\u001b[0;36m, line \u001b[0;32m3\u001b[0m\n\u001b[0;31m    product of the price per item and the quantity. The product should be increased by 10,- € if the value of the\u001b[0m\n\u001b[0m                                                                                            ^\u001b[0m\n\u001b[0;31mSyntaxError\u001b[0m\u001b[0;31m:\u001b[0m invalid character '€' (U+20AC)\n"
          ]
        }
      ]
    }
  ]
}